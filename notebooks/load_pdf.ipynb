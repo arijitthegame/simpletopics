{
 "cells": [
  {
   "cell_type": "code",
   "execution_count": 5,
   "metadata": {},
   "outputs": [],
   "source": [
    "import pandas as pd\n",
    "import numpy as np\n",
    "import os\n",
    "import time\n",
    "import glob\n",
    "\n",
    "from sklearn.feature_extraction.text import TfidfVectorizer\n",
    "from sklearn.decomposition import TruncatedSVD\n",
    "from sklearn.pipeline import Pipeline\n"
   ]
  },
  {
   "cell_type": "code",
   "execution_count": 4,
   "metadata": {},
   "outputs": [],
   "source": [
    "# main\n",
    "txtfolder = '/home/ngr/gdrive/simpletopics/data/processed/'"
   ]
  },
  {
   "cell_type": "code",
   "execution_count": 38,
   "metadata": {},
   "outputs": [],
   "source": [
    "\n",
    "documents = glob.glob(os.path.join(txtfolder, '*.txt'))  \n",
    "vectorizer = TfidfVectorizer(input='filename', \n",
    "                             decode_error='ignore',\n",
    "                             stop_words='english', \n",
    "                             use_idf=True, \n",
    "                             smooth_idf=True)\n",
    "\n",
    "words = [i for i in vectorizer.get_feature_names() if not i.isnumeric()]\n",
    "A = vectorizer.fit_transform(documents)\n",
    "A = A[:, [i for i,v in enumerate(vectorizer.get_feature_names()) if v in words]]\n"
   ]
  },
  {
   "cell_type": "code",
   "execution_count": 48,
   "metadata": {},
   "outputs": [
    {
     "data": {
      "text/plain": [
       "<3x7323 sparse matrix of type '<class 'numpy.float64'>'\n",
       "\twith 9262 stored elements in Compressed Sparse Row format>"
      ]
     },
     "execution_count": 48,
     "metadata": {},
     "output_type": "execute_result"
    }
   ],
   "source": [
    "A"
   ]
  },
  {
   "cell_type": "code",
   "execution_count": 50,
   "metadata": {},
   "outputs": [
    {
     "data": {
      "text/plain": [
       "['immune',\n",
       " 'immuni',\n",
       " 'immunity',\n",
       " 'immunity46',\n",
       " 'immunization',\n",
       " 'immunize',\n",
       " 'immunocomplexes',\n",
       " 'immunocompromised',\n",
       " 'immunodominant',\n",
       " 'immunogenic',\n",
       " 'immunogenicity',\n",
       " 'immunoglobulin',\n",
       " 'immunol',\n",
       " 'immunological',\n",
       " 'immunomodulatory',\n",
       " 'immunopathol',\n",
       " 'immunopathological',\n",
       " 'immunopathology',\n",
       " 'immunopharmacol',\n",
       " 'immunosorbent',\n",
       " 'immunospot',\n",
       " 'immunostaining',\n",
       " 'immunosuppressed',\n",
       " 'immunosuppression',\n",
       " 'immunosuppressive',\n",
       " 'immunother']"
      ]
     },
     "execution_count": 50,
     "metadata": {},
     "output_type": "execute_result"
    }
   ],
   "source": [
    "[i for i in words if i.startswith('imm')]"
   ]
  },
  {
   "cell_type": "code",
   "execution_count": null,
   "metadata": {},
   "outputs": [],
   "source": []
  }
 ],
 "metadata": {
  "kernelspec": {
   "display_name": "Python 3",
   "language": "python",
   "name": "python3"
  },
  "language_info": {
   "codemirror_mode": {
    "name": "ipython",
    "version": 3
   },
   "file_extension": ".py",
   "mimetype": "text/x-python",
   "name": "python",
   "nbconvert_exporter": "python",
   "pygments_lexer": "ipython3",
   "version": "3.8.5"
  }
 },
 "nbformat": 4,
 "nbformat_minor": 4
}
