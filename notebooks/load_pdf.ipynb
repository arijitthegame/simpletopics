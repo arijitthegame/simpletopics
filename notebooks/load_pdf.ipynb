{
 "cells": [
  {
   "cell_type": "code",
   "execution_count": 2,
   "metadata": {},
   "outputs": [],
   "source": [
    "import PyPDF2"
   ]
  },
  {
   "cell_type": "code",
   "execution_count": 3,
   "metadata": {},
   "outputs": [],
   "source": [
    "\n",
    "pdfname = '/home/ngr/Downloads/Siemieniuketal20.pdf'\n",
    "reader = PyPDF2.PdfFileReader(pdfname)\n",
    "\n"
   ]
  },
  {
   "cell_type": "code",
   "execution_count": 7,
   "metadata": {},
   "outputs": [
    {
     "data": {
      "text/plain": [
       "{'/Author': 'Unknown',\n",
       " '/CreationDate': 'D:20201217132105Z',\n",
       " '/Creator': 'Unknown',\n",
       " '/CrossmarkDomainExclusive': 'false',\n",
       " '/CrossmarkDomains#5B1#5D': 'bmj.com',\n",
       " '/CrossmarkMajorVersionDate': '30-7-2020',\n",
       " '/ModDate': \"D:20210322104417-07'00'\",\n",
       " '/Producer': 'XEP 4.25.502',\n",
       " '/Title': 'Drug treatments for covid-19: living systematic review and network meta-analysis',\n",
       " '/Trapped': '/False',\n",
       " '/doi': '10.1136/bmj.m2980'}"
      ]
     },
     "execution_count": 7,
     "metadata": {},
     "output_type": "execute_result"
    }
   ],
   "source": [
    "reader.documentInfo"
   ]
  },
  {
   "cell_type": "code",
   "execution_count": 5,
   "metadata": {},
   "outputs": [
    {
     "data": {
      "text/plain": [
       "['__class__',\n",
       " '__delattr__',\n",
       " '__dict__',\n",
       " '__dir__',\n",
       " '__doc__',\n",
       " '__eq__',\n",
       " '__format__',\n",
       " '__ge__',\n",
       " '__getattribute__',\n",
       " '__gt__',\n",
       " '__hash__',\n",
       " '__init__',\n",
       " '__init_subclass__',\n",
       " '__le__',\n",
       " '__lt__',\n",
       " '__module__',\n",
       " '__ne__',\n",
       " '__new__',\n",
       " '__reduce__',\n",
       " '__reduce_ex__',\n",
       " '__repr__',\n",
       " '__setattr__',\n",
       " '__sizeof__',\n",
       " '__str__',\n",
       " '__subclasshook__',\n",
       " '__weakref__',\n",
       " '_authenticateUserPassword',\n",
       " '_buildDestination',\n",
       " '_buildField',\n",
       " '_buildOutline',\n",
       " '_checkKids',\n",
       " '_decrypt',\n",
       " '_decryptObject',\n",
       " '_flatten',\n",
       " '_getObjectFromStream',\n",
       " '_getPageNumberByIndirect',\n",
       " '_override_encryption',\n",
       " '_pageId2Num',\n",
       " '_pairs',\n",
       " '_writeField',\n",
       " '_zeroXref',\n",
       " 'cacheGetIndirectObject',\n",
       " 'cacheIndirectObject',\n",
       " 'decrypt',\n",
       " 'documentInfo',\n",
       " 'flattenedPages',\n",
       " 'getDestinationPageNumber',\n",
       " 'getDocumentInfo',\n",
       " 'getFields',\n",
       " 'getFormTextFields',\n",
       " 'getIsEncrypted',\n",
       " 'getNamedDestinations',\n",
       " 'getNumPages',\n",
       " 'getObject',\n",
       " 'getOutlines',\n",
       " 'getPage',\n",
       " 'getPageLayout',\n",
       " 'getPageMode',\n",
       " 'getPageNumber',\n",
       " 'getXmpMetadata',\n",
       " 'isEncrypted',\n",
       " 'namedDestinations',\n",
       " 'numPages',\n",
       " 'outlines',\n",
       " 'pageLayout',\n",
       " 'pageMode',\n",
       " 'pages',\n",
       " 'read',\n",
       " 'readNextEndLine',\n",
       " 'readObjectHeader',\n",
       " 'resolvedObjects',\n",
       " 'stream',\n",
       " 'strict',\n",
       " 'trailer',\n",
       " 'xmpMetadata',\n",
       " 'xref',\n",
       " 'xrefIndex',\n",
       " 'xref_objStm']"
      ]
     },
     "execution_count": 5,
     "metadata": {},
     "output_type": "execute_result"
    }
   ],
   "source": [
    "dir(reader)"
   ]
  },
  {
   "cell_type": "code",
   "execution_count": 10,
   "metadata": {},
   "outputs": [
    {
     "data": {
      "text/plain": [
       "31"
      ]
     },
     "execution_count": 10,
     "metadata": {},
     "output_type": "execute_result"
    }
   ],
   "source": [
    "for page in range(reader.numPages):\n",
    "    "
   ]
  },
  {
   "cell_type": "code",
   "execution_count": 14,
   "metadata": {},
   "outputs": [
    {
     "data": {
      "text/plain": [
       "'\\nWeassessedthecertaintyofevidenceusingthegradingof\\nrecommendationsassessment,developmentandevaluation\\n\\n(GRADE)approachfornetworkmeta-analysis.\\n52324\\nTwopeople\\nwithexperienceinusingGRADEratedeachdomainforeach\\n\\ncomparisonseparatelyandresolveddiscrepanciesbyconsensus.\\n\\nWeratedthecertaintyforeachcomparisonandoutcomeashigh,\\n\\nmoderate,low,orverylow,basedonconsiderationsofriskofbias,\\n\\ninconsistency,indirectness,publicationbias,intransitivity,\\n\\nincoherence(differencebetweendirectandindirecteffects),and\\n\\nimprecision.24Judgmentsofimprecisionforthissystematicreview\\nweremadeusingaminimallycontextualisedapproach,withanull\\n\\neffectasthethresholdofimportance.\\n25Theminimally\\ncontextualisedapproachconsidersonlywhethercredibleintervals\\n\\nincludethenulleffectandthusdoesnotconsiderwhetherplausible\\n\\neffects,capturedbycredibleintervals,includebothimportantand\\n\\ntrivialeffects.\\n25Toevaluatecertaintyofnobenefit(ornoeffect),we\\nuseda2%riskdifferencethresholdofthe95%credibleintervalfor\\n\\nmortalityandmechanicalventilation.Inotherwords,iftheentire\\n\\n95%credibleintervalwaswithin2%ofthenulleffect,wewould\\n\\nnotratedownforimprecision.Wedecidedonthispreliminary\\n\\nthresholdbasedonasurveyoftheauthors.Infutureupdates,it\\n\\nwillbeguidedbyasurveyofpatientsandguidelinepanellists.\\n\\nInterimupdatesandadditionalstudydatawillbepostedonour\\n\\nwebsite(\\nwww.covid19lnma.com).\\nTofacilitateinterpretationoftheresults,wecalculatedabsolute\\neffectsforoutcomesinwhichthesummarymeasurewasanodds\\n\\nratioorratioofmeans.Whenavailable,weinferredbaselinerisk\\n\\nintheusualcaregroupforeachoutcomefromrepresentative\\n\\nobservationaldata(supplementarymaterial).Formortality,we\\n\\nuseddatafromtheCDConpatientswhowerehospitalisedwith\\n\\ncovid-19.2627\\nFormechanicalventilation,durationofinvasive\\nmechanicalventilation,durationofhospitalisation,andICUlength\\n\\nofstayweusedbaselinerisksfromtheInternationalSevereAcute\\n\\nRespiratoryandEmergingInfectionCOVID-19database.\\n28Forall\\notheroutcomes,weusedthemedianfromallstudiesinwhich\\n\\nparticipantsreceivedstandardofcaretocalculatethebaselinerisk\\n\\nforeachoutcome,witheachstudyweighedequally.Wecalculated\\nabsoluteeffectsusingthetransitiverisksmodel\\n29usingR2jagspackageinR.\\n30Foreachoutcome,weclassifiedtreatmentsingroupsfromthemost\\n\\ntotheleasteffectiveusingtheminimallycontextualisedframework,\\n\\nwhichfocusesonthetreatmenteffectestimatesandthecertainty\\n\\noftheevidence.\\n31\\nSubgroupanalyseswereperformedforspecificinterventionsof\\ninterestatthedirectionofthelinkedWHOlivingguidelinepanel.\\n\\nInthisiteration,weperformedsubgroupanalysesforremdesivir,\\n\\nhydroxychloroquine,andlopinavir/ritonavir.Thepanelrequested\\n\\nsubgroupanalysesbyage(childrenvs.non-elderlyadultsvs.\\n\\nelderly)andseverity(non-severevs.severevs.critical).We\\n\\nperformedbayesianhierarchicalmeta-regressionwithstudyasa\\n\\nrandomeffect.\\n\\nPatientswereinvolvedinoutcomeselection,interpretationof\\nresults,andthegenerationofparallelrecommendations,aspartof\\n\\ntheBMJRapidRecommendationsinitiative.\\nAfterscreening20228titlesandabstractsand370fulltexts,130\\nuniquerandomisedcontrolledtrialsfrom118publicationswere\\n\\nidentifiedthatevaluateddrugtreatmentsasof3December2020\\n\\n(fig1\\n).32-\\n77Atableofexcludedfulltextsisprovidedinthe\\nsupplementaryfile.Searchesoflivingevidenceretrievalservices\\n\\nidentified27additionaleligiblerandomisedcontrolled\\n\\ntrials.65-7278-88\\nSeventy-threerandomisedtrialshavebeenpublished\\ninpeerreviewedjournals,43onlyaspreprints,and17withintwo\\n\\nmeta-analyses.Mostofthetrialswereregistered(117/130;90%),\\n\\npublishedinEnglish(113/118;96%),andevaluatedtreatmentin\\n\\npatientsadmittedtohospitalwithcovid-19(112/130;86%).One\\n\\nquarterofthetrialswereconductedinChina(33/130;25%),with\\n\\ntheremainderdistributedglobally.Ofthe130includeddrugtrials,\\n\\nthethreemostcommonlystudieddrugswere(hydroxy)chloroquine\\n\\n(33/130;25%),followedbycorticosteroids(11/130;8%)and\\n\\nlopinavir/ritonavir(8/130;6%).\\nthe bmj | BMJ 2020;370:m2980 | doi: 10.1136/bmj.m29804RESEARCH on 22 March 2021 at Yale Uni NERL Consortia. Protected by copyright.http://www.bmj.com/BMJ: first published as 10.1136/bmj.m2980 on 30 July 2020. Downloaded from '"
      ]
     },
     "execution_count": 14,
     "metadata": {},
     "output_type": "execute_result"
    }
   ],
   "source": [
    "reader.getPage(3).extractText()"
   ]
  },
  {
   "cell_type": "code",
   "execution_count": null,
   "metadata": {},
   "outputs": [],
   "source": []
  }
 ],
 "metadata": {
  "kernelspec": {
   "display_name": "Python 3",
   "language": "python",
   "name": "python3"
  },
  "language_info": {
   "codemirror_mode": {
    "name": "ipython",
    "version": 3
   },
   "file_extension": ".py",
   "mimetype": "text/x-python",
   "name": "python",
   "nbconvert_exporter": "python",
   "pygments_lexer": "ipython3",
   "version": "3.8.5"
  }
 },
 "nbformat": 4,
 "nbformat_minor": 4
}
